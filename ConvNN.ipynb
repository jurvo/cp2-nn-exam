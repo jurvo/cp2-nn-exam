{
 "cells": [
  {
   "cell_type": "markdown",
   "metadata": {},
   "source": [
    "# Convolutional Neural Network"
   ]
  },
  {
   "cell_type": "markdown",
   "metadata": {},
   "source": [
    "Credits: Magnus Erik Hvass Pedersen\n",
    "\n",
    "The original code can be found [here](https://github.com/Hvass-Labs/TensorFlow-Tutorials/blob/master/02_Convolutional_Neural_Network.ipynb). Only some minor updates were made."
   ]
  },
  {
   "cell_type": "markdown",
   "metadata": {},
   "source": [
    "## Starting with the imports"
   ]
  },
  {
   "cell_type": "markdown",
   "metadata": {},
   "source": [
    "You will need matplotlib, numpy, scikit-learn, tensorflow and mnist-py. They can be install via pip:\n",
    "\n",
    "`pip install matplotlib numpy scikit-learn tensorflow mnist-py`"
   ]
  },
  {
   "cell_type": "code",
   "execution_count": null,
   "metadata": {},
   "outputs": [],
   "source": [
    "import matplotlib.pyplot as plt\n",
    "import numpy as np\n",
    "import time\n",
    "from sklearn.metrics import confusion_matrix\n",
    "from datetime import timedelta\n",
    "from mnist import MNIST\n",
    "import tensorflow.compat.v1 as tf\n",
    "tf.disable_v2_behavior() # use tf v1 due to old code"
   ]
  },
  {
   "cell_type": "markdown",
   "metadata": {},
   "source": [
    "## Basic settings"
   ]
  },
  {
   "cell_type": "code",
   "execution_count": 2,
   "metadata": {},
   "outputs": [],
   "source": [
    "# Convolutional Layer 1.\n",
    "filter_size1 = 5          # Convolution filters are 5 x 5 pixels.\n",
    "num_filters1 = 16         # There are 16 of these filters.\n",
    "\n",
    "# Convolutional Layer 2.\n",
    "filter_size2 = 5          # Convolution filters are 5 x 5 pixels.\n",
    "num_filters2 = 36         # There are 36 of these filters.\n",
    "\n",
    "# Fully-connected layer.\n",
    "fc_size = 128             # Number of neurons in fully-connected layer."
   ]
  },
  {
   "cell_type": "markdown",
   "metadata": {},
   "source": [
    "## load MNIST data"
   ]
  },
  {
   "cell_type": "markdown",
   "metadata": {},
   "source": [
    "Important to mention: You have to download the mnist data beforehand.\n",
    "\n",
    "You can just download the from this repo (state from 07/2022) or look for details [here](https://github.com/mattpetersen/mnist-py)."
   ]
  },
  {
   "cell_type": "code",
   "execution_count": 3,
   "metadata": {},
   "outputs": [
    {
     "name": "stdout",
     "output_type": "stream",
     "text": [
      "Size of:\n",
      "- Training-set:\t\t60000\n",
      "- Test-set:\t\t10000\n"
     ]
    }
   ],
   "source": [
    "# data set import\n",
    "data = MNIST(\"./data/MNIST/\", return_type=\"numpy\", gz=True)\n",
    "data.load_training()\n",
    "data.load_testing()\n",
    "\n",
    "print(\"Size of:\")\n",
    "print(\"- Training-set:\\t\\t{}\".format(len(data.train_images)))\n",
    "#print(\"- Validation-set:\\t{}\".format(data.num_val))\n",
    "print(\"- Test-set:\\t\\t{}\".format(len(data.test_images)))\n",
    "\n",
    "# The number of pixels in each dimension of an image.\n",
    "img_size = 28\n",
    "\n",
    "# The images are stored in one-dimensional arrays of this length.\n",
    "img_size_flat = len(data.test_images[0])\n",
    "\n",
    "# Tuple with height and width of images used to reshape arrays.\n",
    "img_shape = (28,28)\n",
    "\n",
    "# Number of classes, one class for each of 10 digits.\n",
    "num_classes = 10\n",
    "\n",
    "# Number of colour channels for the images: 1 channel for gray-scale.\n",
    "num_channels = 1"
   ]
  },
  {
   "cell_type": "markdown",
   "metadata": {},
   "source": [
    "## Some helper functions"
   ]
  },
  {
   "cell_type": "markdown",
   "metadata": {},
   "source": [
    "Plotting nine images with classification lables."
   ]
  },
  {
   "cell_type": "code",
   "execution_count": 4,
   "metadata": {},
   "outputs": [],
   "source": [
    "def plot_images(images, cls_true, cls_pred=None):\n",
    "\t\"\"\"\n",
    "\tPlot hand written number with label\n",
    "\t\"\"\"\n",
    "\tassert len(images) == len(cls_true) == 9\n",
    "\t\n",
    "\t# Create figure with 3x3 sub-plots.\n",
    "\tfig, axes = plt.subplots(3, 3)\n",
    "\tfig.subplots_adjust(hspace=0.3, wspace=0.3)\n",
    "\n",
    "\tfor i, ax in enumerate(axes.flat):\n",
    "\t\t# Plot image.\n",
    "\t\tax.imshow(images[i].reshape(img_shape), cmap='binary')\n",
    "\n",
    "\t\t# Show true and predicted classes.\n",
    "\t\tif cls_pred is None:\n",
    "\t\t\txlabel = \"True: {0}\".format(cls_true[i])\n",
    "\t\telse:\n",
    "\t\t\txlabel = \"True: {0}, Pred: {1}\".format(cls_true[i], cls_pred[i])\n",
    "\n",
    "\t\t# Show the classes as the label on the x-axis.\n",
    "\t\tax.set_xlabel(xlabel)\n",
    "\t\t\n",
    "\t\t# Remove ticks from the plot.\n",
    "\t\tax.set_xticks([])\n",
    "\t\tax.set_yticks([])\n",
    "\t\n",
    "\t# Ensure the plot is shown correctly with multiple plots\n",
    "\t# in a single Notebook cell.\n",
    "\tplt.show()"
   ]
  },
  {
   "cell_type": "markdown",
   "metadata": {},
   "source": [
    "Creating new weights and biases."
   ]
  },
  {
   "cell_type": "code",
   "execution_count": 5,
   "metadata": {},
   "outputs": [],
   "source": [
    "def new_weights(shape): # retruns random values \n",
    "\treturn tf.Variable(tf.truncated_normal(shape, stddev=0.05))\n",
    "\n",
    "def new_biases(length): # returns a constant value with given shape/length\n",
    "\treturn tf.Variable(tf.constant(0.05, shape=[length]))"
   ]
  },
  {
   "cell_type": "markdown",
   "metadata": {},
   "source": [
    "### Creating a new convolutional layer"
   ]
  },
  {
   "cell_type": "code",
   "execution_count": 6,
   "metadata": {},
   "outputs": [],
   "source": [
    "def new_conv_layer(input, num_input_channels, filter_size, num_filters, use_pooling=True):\n",
    "\t\"\"\"\n",
    "\tCreates a new convolutional layer.\n",
    "\n",
    "\tParameters\n",
    "\t-\n",
    "\tinput = the previous layer,\\n\n",
    "\tnum_input_channels = number of channels in prev. layer, \\n\n",
    "\tfilter_size = width and heigt of each filter, \\n\n",
    "\tuse_pooling = use 2x2 max-pooling?\n",
    "\t\"\"\"\n",
    "\n",
    "\t# Shape of the filter-weights for the convolution\n",
    "\t# determinded by tf api\n",
    "\tshape = [filter_size, filter_size, num_input_channels, num_filters]\n",
    "\n",
    "\t# Create new weights aka filters with the given shape\n",
    "\tweights = new_weights(shape=shape)\n",
    "\n",
    "\t# Create new biases, one for each filter\n",
    "\tbiases = new_biases(length=num_filters)\n",
    "\n",
    "\t# Create the TensorFlow operation for convolution.\n",
    "\t# Note the strides are set to 1 in all dimensions.\n",
    "\t# The first and last stride must always be 1,\n",
    "\t# because the first is for the image-number and\n",
    "\t# the last is for the input-channel.\n",
    "\t# But e.g. strides=[1, 2, 2, 1] would mean that the filter\n",
    "\t# is moved 2 pixels across the x- and y-axis of the image.\n",
    "\t# The padding is set to 'SAME' which means the input image\n",
    "\t# is padded with zeroes so the size of the output is the same.\n",
    "\tlayer = tf.nn.conv2d(input=input, filter=weights, strides=[1,1,1,1], padding=\"SAME\")\n",
    "\n",
    "\t# Add the biases to the result of the convolution\n",
    "\t# A bias-value is added to each filter-channel\n",
    "\tlayer+= biases\n",
    "\n",
    "\t# Use pooling to down-sample the image resolution?\n",
    "\tif use_pooling:\n",
    "\t\t# This is 2x2 max-pooling, which means that we\n",
    "\t\t# consider 2x2 windows and select the largest value\n",
    "\t\t# in each window. Then we move 2 pixels to the next window.\n",
    "\t\tlayer = tf.nn.max_pool(value=layer, ksize=[1, 2, 2, 1], strides=[1, 2, 2, 1], padding='SAME')\n",
    "\t\n",
    "\t# ReLU, max(x, 0)\n",
    "\tlayer = tf.nn.relu(layer)\n",
    "\n",
    "\t# normally ReLU is executed before the pooling, but relu(max_pooling(x)) == max_pooling(relu(x))\n",
    "\n",
    "\treturn layer, weights"
   ]
  },
  {
   "cell_type": "markdown",
   "metadata": {},
   "source": [
    "### Flattening a layer"
   ]
  },
  {
   "cell_type": "code",
   "execution_count": 7,
   "metadata": {},
   "outputs": [],
   "source": [
    "def flatten_layer(layer):\n",
    "\t# Get the shape of the input layer.\n",
    "\tlayer_shape = layer.get_shape()\n",
    "\n",
    "\t# The shape of the input layer is assumed to be:\n",
    "\t# layer_shape == [num_images, img_height, img_width, num_channels]\n",
    "\n",
    "\t# The number of features is: img_height * img_width * num_channels\n",
    "\t# We can use a function from TensorFlow to calculate this.\n",
    "\tnum_features = layer_shape[1:4].num_elements()\n",
    "\t\n",
    "\t# Reshape the layer to [num_images, num_features].\n",
    "\t# Note that we just set the size of the second dimension\n",
    "\t# to num_features and the size of the first dimension to -1\n",
    "\t# which means the size in that dimension is calculated\n",
    "\t# so the total size of the tensor is unchanged from the reshaping.\n",
    "\tlayer_flat = tf.reshape(layer, [-1, num_features])\n",
    "\n",
    "\t# The shape of the flattened layer is now:\n",
    "\t# [num_images, img_height * img_width * num_channels]\n",
    "\n",
    "\t# Return both the flattened layer and the number of features.\n",
    "\treturn layer_flat, num_features"
   ]
  },
  {
   "cell_type": "markdown",
   "metadata": {},
   "source": [
    "### Creating a fully connected layer"
   ]
  },
  {
   "cell_type": "code",
   "execution_count": 8,
   "metadata": {},
   "outputs": [],
   "source": [
    "def new_fc_layer(input, num_inputs, num_outputs, use_relu=True):\n",
    "\t\"\"\"\n",
    "\tCreate a new fully connected layer.\n",
    "\n",
    "\tParamters\n",
    "\t-\n",
    "\tinput\t \tThe previous layer.\n",
    "\tnum_inputs  Num. inputs from prev. layer.\n",
    "\tnum_outputs Num. outputs.\n",
    "\tuse_relu\tUse Rectified Linear Unit (ReLU)?\n",
    "\t\"\"\"\n",
    "\n",
    "\t# Create new weights and biases.\n",
    "\tweights = new_weights(shape=[num_inputs, num_outputs])\n",
    "\tbiases = new_biases(length=num_outputs)\n",
    "\n",
    "\t# Calculate the layer as the matrix multiplication of\n",
    "\t# the input and weights, and then add the bias-values.\n",
    "\tlayer = tf.matmul(input, weights) + biases\n",
    "\n",
    "\t# Use ReLU?\n",
    "\tif use_relu:\n",
    "\t\tlayer = tf.nn.relu(layer)\n",
    "\n",
    "\treturn layer"
   ]
  },
  {
   "cell_type": "markdown",
   "metadata": {},
   "source": [
    "## Building the neural network"
   ]
  },
  {
   "cell_type": "markdown",
   "metadata": {},
   "source": [
    "Initializing some tensorflow-specific stuff"
   ]
  },
  {
   "cell_type": "code",
   "execution_count": 9,
   "metadata": {},
   "outputs": [],
   "source": [
    "# Placeholder variables\n",
    "x = tf.placeholder(tf.float32, shape=[None, img_size_flat], name='x') # Input var, for the images\n",
    "x_image = tf.reshape(x, [-1, img_size, img_size, num_channels]) # images in the right format (a 4D tensor)\n",
    "y_true = tf.placeholder(tf.float32, shape=[None, num_classes], name='y_true') # the true output\n",
    "y_true_cls = tf.argmax(y_true, axis=1)"
   ]
  },
  {
   "cell_type": "markdown",
   "metadata": {},
   "source": [
    "Creating the layers"
   ]
  },
  {
   "cell_type": "code",
   "execution_count": 10,
   "metadata": {},
   "outputs": [
    {
     "name": "stdout",
     "output_type": "stream",
     "text": [
      "Convolutional layer 1: Tensor(\"Relu:0\", shape=(?, 14, 14, 16), dtype=float32)\n",
      "Convolutional layer 2: Tensor(\"Relu_1:0\", shape=(?, 7, 7, 36), dtype=float32)\n",
      "Flattening:  Tensor(\"Reshape_1:0\", shape=(?, 1764), dtype=float32) 1764\n",
      "Fully-connected layer 1: Tensor(\"Relu_2:0\", shape=(?, 128), dtype=float32)\n",
      "Fully-connected layer 2: Tensor(\"add_3:0\", shape=(?, 10), dtype=float32)\n"
     ]
    }
   ],
   "source": [
    "# Convolution Layer 1\n",
    "layer_conv1, weights_conv1 = new_conv_layer(input=x_image, num_input_channels=num_channels, filter_size=filter_size1, num_filters=num_filters1, use_pooling=True)\n",
    "print('Convolutional layer 1:', layer_conv1)\n",
    "\n",
    "# Convolution Layer 2\n",
    "layer_conv2, weights_conv2 = new_conv_layer(input=layer_conv1, num_input_channels=num_filters1, filter_size=filter_size2, num_filters=num_filters2, use_pooling=True)\n",
    "print('Convolutional layer 2:', layer_conv2)\n",
    "\n",
    "# Flattening the output of the CL2 for the FCL\n",
    "layer_flat, num_features = flatten_layer(layer_conv2)\n",
    "print('Flattening: ', layer_flat, num_features)\n",
    "\n",
    "# FCL1\n",
    "layer_fc1 = new_fc_layer(input=layer_flat, num_inputs=num_features, num_outputs=fc_size, use_relu=True)\n",
    "print('Fully-connected layer 1:', layer_fc1)\n",
    "\n",
    "# FCL2\n",
    "layer_fc2 = new_fc_layer(input=layer_fc1, num_inputs=fc_size, num_outputs=num_classes, use_relu=False)\n",
    "print('Fully-connected layer 2:', layer_fc2)"
   ]
  },
  {
   "cell_type": "markdown",
   "metadata": {},
   "source": [
    "Defining the output"
   ]
  },
  {
   "cell_type": "code",
   "execution_count": 11,
   "metadata": {},
   "outputs": [],
   "source": [
    "y_pred = tf.nn.softmax(layer_fc2) # normalization of the output\n",
    "y_pred_cls = tf.argmax(y_pred, axis=1) # getting the max"
   ]
  },
  {
   "cell_type": "markdown",
   "metadata": {},
   "source": [
    "Defining the learing process"
   ]
  },
  {
   "cell_type": "code",
   "execution_count": 12,
   "metadata": {},
   "outputs": [],
   "source": [
    "# Learing process\n",
    "cross_entropy = tf.nn.softmax_cross_entropy_with_logits_v2(logits=layer_fc2, labels=y_true)\n",
    "\n",
    "cost = tf.reduce_mean(cross_entropy) # average of all images\n",
    "\n",
    "# AdamOptimizer = optimized gradient descent\n",
    "optimizer = tf.train.AdamOptimizer(learning_rate=1e-4).minimize(cost) \n",
    "\n",
    "# calculat measures\n",
    "correct_prediction = tf.equal(y_pred_cls, y_true_cls)\n",
    "accuracy = tf.reduce_mean(tf.cast(correct_prediction, tf.float32))"
   ]
  },
  {
   "cell_type": "markdown",
   "metadata": {},
   "source": [
    "## TensorFlow Session"
   ]
  },
  {
   "cell_type": "code",
   "execution_count": 13,
   "metadata": {},
   "outputs": [],
   "source": [
    "session = tf.Session()\n",
    "\n",
    "# init vars\n",
    "session.run(tf.global_variables_initializer())\n",
    "\n",
    "train_batch_size = 64\n",
    "# Counter for total number of iterations performed so far.\n",
    "total_iterations = 0"
   ]
  },
  {
   "cell_type": "markdown",
   "metadata": {},
   "source": [
    "### Defining the function, which trains the CNN"
   ]
  },
  {
   "cell_type": "code",
   "execution_count": 14,
   "metadata": {},
   "outputs": [],
   "source": [
    "def optimize(num_iterations):\n",
    "\t# Ensure we update the global variable rather than a local copy.\n",
    "\tglobal total_iterations\n",
    "\n",
    "\t# Start-time used for printing time-usage below.\n",
    "\tstart_time = time.time()\n",
    "\n",
    "\tfor i in range(total_iterations, total_iterations + num_iterations):\n",
    "\n",
    "\t\t# Get a batch of training examples.\n",
    "\t\t# x_batch now holds a batch of images and\n",
    "\t\t# y_true_batch are the true labels for those images.\n",
    "\t\trandomBatchIndex = np.random.randint(0, len(data.train_images), train_batch_size)\n",
    "\t\tx_batch = data.train_images[randomBatchIndex]\n",
    "\n",
    "\t\ty_true_batch = np.zeros((train_batch_size, 10))\n",
    "\t\tfor index, value in enumerate(data.train_labels[randomBatchIndex]):\n",
    "\t\t\ty_true_batch[index, value] = 1.\n",
    "\n",
    "\t\t# Put the batch into a dict with the proper names\n",
    "\t\t# for placeholder variables in the TensorFlow graph.\n",
    "\t\tfeed_dict_train = {x: x_batch, y_true: y_true_batch}\n",
    "\n",
    "\t\t# Run the optimizer using this batch of training data.\n",
    "\t\t# TensorFlow assigns the variables in feed_dict_train\n",
    "\t\t# to the placeholder variables and then runs the optimizer.\n",
    "\t\tsession.run(optimizer, feed_dict=feed_dict_train)\n",
    "\n",
    "\t\t# Print status every 100 iterations.\n",
    "\t\tif i % 100 == 0:\n",
    "\t\t\t# Calculate the accuracy on the training-set.\n",
    "\t\t\tacc = session.run(accuracy, feed_dict=feed_dict_train)\n",
    "\n",
    "\t\t\t# Message for printing.\n",
    "\t\t\tmsg = \"Optimization Iteration: {0:>6}, Training Accuracy: {1:>6.1%}\"\n",
    "\n",
    "\t\t\t# Print it.\n",
    "\t\t\tprint(msg.format(i + 1, acc))\n",
    "\n",
    "\t# Update the total number of iterations performed.\n",
    "\ttotal_iterations += num_iterations\n",
    "\n",
    "\t# Ending time.\n",
    "\tend_time = time.time()\n",
    "\n",
    "\t# Difference between start and end-times.\n",
    "\ttime_dif = end_time - start_time\n",
    "\n",
    "\t# Print the time-usage.\n",
    "\tprint(\"Time usage: \" + str(timedelta(seconds=int(round(time_dif)))))\n"
   ]
  },
  {
   "cell_type": "markdown",
   "metadata": {},
   "source": [
    "### Some plotting/output helper functions"
   ]
  },
  {
   "cell_type": "code",
   "execution_count": 15,
   "metadata": {},
   "outputs": [],
   "source": [
    "def plot_example_errors(cls_pred, correct):\n",
    "\t# This function is called from print_test_accuracy() below.\n",
    "\n",
    "\t# cls_pred is an array of the predicted class-number for\n",
    "\t# all images in the test-set.\n",
    "\n",
    "\t# correct is a boolean array whether the predicted class\n",
    "\t# is equal to the true class for each image in the test-set.\n",
    "\n",
    "\t# Negate the boolean array.\n",
    "\tincorrect = (correct == False)\n",
    "\t\n",
    "\t# Get the images from the test-set that have been\n",
    "\t# incorrectly classified.\n",
    "\timages = data.test_images[incorrect]\n",
    "\t\n",
    "\t# Get the predicted classes for those images.\n",
    "\tcls_pred = cls_pred[incorrect]\n",
    "\n",
    "\t# Get the true classes for those images.\n",
    "\tcls_true = data.test_labels[incorrect]\n",
    "\t\n",
    "\t# Plot the first 9 images.\n",
    "\tplot_images(images=images[0:9],\n",
    "\t\t\t\tcls_true=cls_true[0:9],\n",
    "\t\t\t\tcls_pred=cls_pred[0:9])\n"
   ]
  },
  {
   "cell_type": "code",
   "execution_count": 16,
   "metadata": {},
   "outputs": [],
   "source": [
    "def plot_confusion_matrix(cls_pred):\n",
    "\t# This is called from print_test_accuracy() below.\n",
    "\n",
    "\t# cls_pred is an array of the predicted class-number for\n",
    "\t# all images in the test-set.\n",
    "\n",
    "\t# Get the true classifications for the test-set.\n",
    "\tcls_true = data.test_labels\n",
    "\t\n",
    "\t# Get the confusion matrix using sklearn.\n",
    "\tcm = confusion_matrix(y_true=cls_true,\n",
    "\t\t\t\t\t\ty_pred=cls_pred)\n",
    "\n",
    "\t# Print the confusion matrix as text.\n",
    "\tprint(cm)\n",
    "\n",
    "\t# Plot the confusion matrix as an image.\n",
    "\tplt.matshow(cm)\n",
    "\n",
    "\t# Make various adjustments to the plot.\n",
    "\tplt.colorbar()\n",
    "\ttick_marks = np.arange(num_classes)\n",
    "\tplt.xticks(tick_marks, range(num_classes))\n",
    "\tplt.yticks(tick_marks, range(num_classes))\n",
    "\tplt.xlabel('Predicted')\n",
    "\tplt.ylabel('True')\n",
    "\tplt.title('Confusion Matrix')\n",
    "\n",
    "\t# Ensure the plot is shown correctly with multiple plots\n",
    "\t# in a single Notebook cell.\n",
    "\tplt.show()"
   ]
  },
  {
   "cell_type": "code",
   "execution_count": 17,
   "metadata": {},
   "outputs": [],
   "source": [
    "# Split the test-set into smaller batches of this size.\n",
    "test_batch_size = 256\n",
    "\n",
    "def print_test_accuracy(show_example_errors=False, show_confusion_matrix=False):\n",
    "\n",
    "\t# Number of images in the test-set.\n",
    "\tnum_test =  len(data.test_images)\n",
    "\n",
    "\t# Allocate an array for the predicted classes which\n",
    "\t# will be calculated in batches and filled into this array.\n",
    "\tcls_pred = np.zeros(shape=num_test, dtype=int)\n",
    "\n",
    "\t# Now calculate the predicted classes for the batches.\n",
    "\t# We will just iterate through all the batches.\n",
    "\t# There might be a more clever and Pythonic way of doing this.\n",
    "\n",
    "\t# The starting index for the next batch is denoted i.\n",
    "\ti = 0\n",
    "\n",
    "\twhile i < num_test:\n",
    "\t\t# The ending index for the next batch is denoted j.\n",
    "\t\tj = min(i + test_batch_size, num_test)\n",
    "\n",
    "\t\t# Get the images from the test-set between index i and j.\n",
    "\t\timages = data.test_images[i:j, :]\n",
    "\n",
    "\t\t# Get the associated labels.\n",
    "\t\tlabels = np.zeros((j-i, 10))\n",
    "\t\tfor index, value in enumerate(data.test_labels[i:j]):\n",
    "\t\t\tlabels[index, value] = 1.\n",
    "\n",
    "\t\t# Create a feed-dict with these images and labels.\n",
    "\t\tfeed_dict = {x: images,\n",
    "\t\t\t\t\ty_true: labels}\n",
    "\n",
    "\t\t# Calculate the predicted class using TensorFlow.\n",
    "\t\tcls_pred[i:j] = session.run(y_pred_cls, feed_dict=feed_dict)\n",
    "\n",
    "\t\t# Set the start-index for the next batch to the\n",
    "\t\t# end-index of the current batch.\n",
    "\t\ti = j\n",
    "\n",
    "\t# Convenience variable for the true class-numbers of the test-set.\n",
    "\tcls_true = data.test_labels\n",
    "\n",
    "\t# Create a boolean array whether each image is correctly classified.\n",
    "\tcorrect = (cls_true == cls_pred)\n",
    "\n",
    "\t# Calculate the number of correctly classified images.\n",
    "\t# When summing a boolean array, False means 0 and True means 1.\n",
    "\tcorrect_sum = correct.sum()\n",
    "\n",
    "\t# Classification accuracy is the number of correctly classified\n",
    "\t# images divided by the total number of images in the test-set.\n",
    "\tacc = float(correct_sum) / num_test\n",
    "\n",
    "\t# Print the accuracy.\n",
    "\tmsg = \"Accuracy on Test-Set: {0:.1%} ({1} / {2})\"\n",
    "\tprint(msg.format(acc, correct_sum, num_test))\n",
    "\n",
    "\t# Plot some examples of mis-classifications, if desired.\n",
    "\tif show_example_errors:\n",
    "\t\tprint(\"Example errors:\")\n",
    "\t\tplot_example_errors(cls_pred=cls_pred, correct=correct)\n",
    "\n",
    "\t# Plot the confusion matrix, if desired.\n",
    "\tif show_confusion_matrix:\n",
    "\t\tprint(\"Confusion Matrix:\")\n",
    "\t\tplot_confusion_matrix(cls_pred=cls_pred)"
   ]
  },
  {
   "cell_type": "markdown",
   "metadata": {},
   "source": [
    "## The actual using of the CNN"
   ]
  },
  {
   "cell_type": "code",
   "execution_count": 18,
   "metadata": {},
   "outputs": [
    {
     "name": "stdout",
     "output_type": "stream",
     "text": [
      "Total iterations: 0\n",
      "Accuracy on Test-Set: 9.9% (994 / 10000)\n",
      "Optimization Iteration:      1, Training Accuracy:  12.5%\n",
      "Time usage: 0:00:00\n",
      "Total iterations: 1\n",
      "Accuracy on Test-Set: 10.3% (1030 / 10000)\n",
      "Time usage: 0:00:02\n",
      "Total iterations: 100\n",
      "Accuracy on Test-Set: 79.0% (7904 / 10000)\n",
      "Example errors:\n"
     ]
    },
    {
     "data": {
      "image/png": "[encoded data removed]",
      "text/plain": [
       "<Figure size 432x288 with 9 Axes>"
      ]
     },
     "metadata": {},
     "output_type": "display_data"
    },
    {
     "name": "stdout",
     "output_type": "stream",
     "text": [
      "Optimization Iteration:    101, Training Accuracy:  84.4%\n",
      "Optimization Iteration:    201, Training Accuracy:  92.2%\n",
      "Optimization Iteration:    301, Training Accuracy:  89.1%\n",
      "Optimization Iteration:    401, Training Accuracy:  93.8%\n",
      "Optimization Iteration:    501, Training Accuracy:  93.8%\n",
      "Optimization Iteration:    601, Training Accuracy:  98.4%\n",
      "Optimization Iteration:    701, Training Accuracy:  93.8%\n",
      "Optimization Iteration:    801, Training Accuracy:  98.4%\n",
      "Optimization Iteration:    901, Training Accuracy:  98.4%\n",
      "Time usage: 0:00:21\n",
      "Total iterations: 1000\n",
      "Accuracy on Test-Set: 95.1% (9509 / 10000)\n",
      "Example errors:\n"
     ]
    },
    {
     "data": {
      "image/png": "[encoded data removed]",
      "text/plain": [
       "<Figure size 432x288 with 9 Axes>"
      ]
     },
     "metadata": {},
     "output_type": "display_data"
    },
    {
     "name": "stdout",
     "output_type": "stream",
     "text": [
      "Optimization Iteration:   1001, Training Accuracy: 100.0%\n",
      "Optimization Iteration:   1101, Training Accuracy:  96.9%\n",
      "Optimization Iteration:   1201, Training Accuracy:  95.3%\n",
      "Optimization Iteration:   1301, Training Accuracy:  96.9%\n",
      "Optimization Iteration:   1401, Training Accuracy:  96.9%\n",
      "Optimization Iteration:   1501, Training Accuracy:  95.3%\n",
      "Optimization Iteration:   1601, Training Accuracy:  98.4%\n",
      "Optimization Iteration:   1701, Training Accuracy:  95.3%\n",
      "Optimization Iteration:   1801, Training Accuracy:  96.9%\n",
      "Optimization Iteration:   1901, Training Accuracy: 100.0%\n",
      "Optimization Iteration:   2001, Training Accuracy:  96.9%\n",
      "Optimization Iteration:   2101, Training Accuracy:  95.3%\n",
      "Optimization Iteration:   2201, Training Accuracy:  98.4%\n",
      "Optimization Iteration:   2301, Training Accuracy: 100.0%\n",
      "Optimization Iteration:   2401, Training Accuracy:  98.4%\n",
      "Optimization Iteration:   2501, Training Accuracy:  98.4%\n",
      "Optimization Iteration:   2601, Training Accuracy: 100.0%\n",
      "Optimization Iteration:   2701, Training Accuracy:  98.4%\n",
      "Optimization Iteration:   2801, Training Accuracy:  95.3%\n",
      "Optimization Iteration:   2901, Training Accuracy: 100.0%\n",
      "Optimization Iteration:   3001, Training Accuracy: 100.0%\n",
      "Optimization Iteration:   3101, Training Accuracy:  98.4%\n",
      "Optimization Iteration:   3201, Training Accuracy: 100.0%\n",
      "Optimization Iteration:   3301, Training Accuracy:  98.4%\n",
      "Optimization Iteration:   3401, Training Accuracy:  98.4%\n",
      "Optimization Iteration:   3501, Training Accuracy:  98.4%\n",
      "Optimization Iteration:   3601, Training Accuracy:  98.4%\n",
      "Optimization Iteration:   3701, Training Accuracy:  98.4%\n",
      "Optimization Iteration:   3801, Training Accuracy:  98.4%\n",
      "Optimization Iteration:   3901, Training Accuracy:  98.4%\n",
      "Optimization Iteration:   4001, Training Accuracy: 100.0%\n",
      "Optimization Iteration:   4101, Training Accuracy: 100.0%\n",
      "Optimization Iteration:   4201, Training Accuracy: 100.0%\n",
      "Optimization Iteration:   4301, Training Accuracy: 100.0%\n",
      "Optimization Iteration:   4401, Training Accuracy: 100.0%\n",
      "Optimization Iteration:   4501, Training Accuracy:  98.4%\n",
      "Optimization Iteration:   4601, Training Accuracy:  98.4%\n",
      "Optimization Iteration:   4701, Training Accuracy:  98.4%\n",
      "Optimization Iteration:   4801, Training Accuracy:  98.4%\n",
      "Optimization Iteration:   4901, Training Accuracy: 100.0%\n",
      "Time usage: 0:01:34\n",
      "Total iterations: 5000\n",
      "Accuracy on Test-Set: 98.3% (9833 / 10000)\n",
      "Example errors:\n"
     ]
    },
    {
     "data": {
      "image/png": "[encoded data removed]",
      "text/plain": [
       "<Figure size 432x288 with 9 Axes>"
      ]
     },
     "metadata": {},
     "output_type": "display_data"
    },
    {
     "name": "stdout",
     "output_type": "stream",
     "text": [
      "Confusion Matrix:\n",
      "[[ 970    0    0    0    0    1    4    2    3    0]\n",
      " [   0 1125    0    1    2    1    2    1    3    0]\n",
      " [   3    3 1013    0    3    0    0    8    2    0]\n",
      " [   1    0    4  976    1   17    0    2    8    1]\n",
      " [   0    0    2    0  976    0    1    0    2    1]\n",
      " [   2    0    0    2    1  882    3    1    1    0]\n",
      " [   1    1    0    0    2    2  949    0    3    0]\n",
      " [   2    4    4    2    4    0    0 1003    1    8]\n",
      " [   3    0    1    0    3    4    0    3  959    1]\n",
      " [   4    4    1    0   10    8    0    2    0  980]]\n"
     ]
    },
    {
     "data": {
      "image/png": "[encoded data removed]",
      "text/plain": [
       "<Figure size 288x288 with 2 Axes>"
      ]
     },
     "metadata": {
      "needs_background": "light"
     },
     "output_type": "display_data"
    }
   ],
   "source": [
    "# Using the CNN\n",
    "print(\"Total iterations:\", total_iterations)\n",
    "print_test_accuracy()\n",
    "\n",
    "optimize(num_iterations=1)\n",
    "print(\"Total iterations:\", total_iterations)\n",
    "print_test_accuracy()\n",
    "\n",
    "optimize(num_iterations=99) # We already performed 1 iteration above.\n",
    "print(\"Total iterations:\", total_iterations)\n",
    "print_test_accuracy(show_example_errors=True)\n",
    "\n",
    "optimize(num_iterations=900) # We performed 100 iterations above.\n",
    "print(\"Total iterations:\", total_iterations)\n",
    "print_test_accuracy(show_example_errors=True)\n",
    "\n",
    "optimize(num_iterations=4000) # We performed 1000 iterations above.\n",
    "print(\"Total iterations:\", total_iterations)\n",
    "print_test_accuracy(show_example_errors=True, show_confusion_matrix=True)"
   ]
  }
 ],
 "metadata": {
  "kernelspec": {
   "display_name": "Python 3.10.1 64-bit",
   "language": "python",
   "name": "python3"
  },
  "language_info": {
   "codemirror_mode": {
    "name": "ipython",
    "version": 3
   },
   "file_extension": ".py",
   "mimetype": "text/x-python",
   "name": "python",
   "nbconvert_exporter": "python",
   "pygments_lexer": "ipython3",
   "version": "3.10.1"
  },
  "orig_nbformat": 4,
  "vscode": {
   "interpreter": {
    "hash": "26de051ba29f2982a8de78e945f0abaf191376122a1563185a90213a26c5da77"
   }
  }
 },
 "nbformat": 4,
 "nbformat_minor": 2
}
