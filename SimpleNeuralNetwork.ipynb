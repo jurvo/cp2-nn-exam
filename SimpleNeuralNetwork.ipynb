{
 "cells": [
  {
   "cell_type": "markdown",
   "id": "128c78d1",
   "metadata": {},
   "source": [
    "# Code for an one-neuron neural network"
   ]
  },
  {
   "cell_type": "markdown",
   "id": "e541e0aa-c069-4da3-acf9-6f0a4d6873eb",
   "metadata": {
    "tags": []
   },
   "source": [
    "## Imports and setup"
   ]
  },
  {
   "cell_type": "code",
   "execution_count": 1,
   "id": "9474ae62-70c2-40e7-b090-722c143a5e0b",
   "metadata": {},
   "outputs": [],
   "source": [
    "%matplotlib inline\n",
    "import numpy as np\n",
    "import matplotlib.pyplot as plt\n",
    "\n",
    "np.random.seed(0) # for reproducibility"
   ]
  },
  {
   "cell_type": "markdown",
   "id": "6a7d70d5",
   "metadata": {},
   "source": [
    "## Define a basic Neuron class"
   ]
  },
  {
   "cell_type": "markdown",
   "id": "c2dc0d8f",
   "metadata": {},
   "source": [
    "![Schema of a basic neuron](./neuron_schema.png)"
   ]
  },
  {
   "cell_type": "code",
   "execution_count": 2,
   "id": "3dd69c38-411f-4a2d-b0db-334296b401d7",
   "metadata": {
    "tags": []
   },
   "outputs": [],
   "source": [
    "class Neuron:\n",
    "\t\"\"\"\n",
    "\tDefines a simple neuron for a neural network.\n",
    "\t\n",
    "\tSyntax:\n",
    "\t--\n",
    "\t>>> testNeuron = Neuron(<number of Inputs>, <actFunc>) # Creating the neuron\n",
    "\t>>> output = testNeuron(<input array>) # Calculating the output\n",
    "\n",
    "\tExample:\n",
    "\t--\n",
    "\t>>> neuron_one = Neuron(3, \"sigmoid\") # Creating the neuron\n",
    "\t>>> output = neuron_one([0., 1., 1.]) # Calculating the output\n",
    "\t\"\"\"\n",
    "\tdef __init__(self, numberOfInputs, actFunc = \"sigmoid\"):\n",
    "\t\t\"\"\"\n",
    "\t\tInitializes a new neuron with numberOfInputs random weights and a bias between -1 and 1,\\n\n",
    "\t\tand assigning the activation function.\n",
    "\t\t\"\"\"\n",
    "\t\t# generate random weigts\n",
    "\t\tself.weights = 2 * np.random.random(numberOfInputs) - 1\n",
    "\t\tself.bias = 2 * np.random.random() - 1\n",
    "\t\t# select the activation function\n",
    "\t\tif type(actFunc) == str:\n",
    "\t\t\tif actFunc == \"sigmoid\":\n",
    "\t\t\t\tself.activation_func = lambda z: 1 / (1 + np.exp(-z))\n",
    "\t\t\t\tself.gradActivation_func = lambda z: self.activation_func(z) * (1 - self.activation_func(z))\n",
    "\t\t\telif actFunc == \"hyperbolicTagent\":\n",
    "\t\t\t\tself.activation_func = lambda z: (np.exp(z) - np.exp(-z)) / (np.exp(z) + np.exp(-z))\n",
    "\t\t\t\tself.gradActivation_func = lambda z: 1 - self.activation_func(z)**2\n",
    "\t\t\telif actFunc == \"relu\":\n",
    "\t\t\t\tself.activation_func = lambda z: np.maximum(0, z)\n",
    "\t\t\t\tself.gradActivation_func = lambda z: np.heaviside(z,0)\n",
    "\t\telif callable(actFunc):\n",
    "\t\t\tself.activation_func = actFunc\n",
    "\t\telse:\n",
    "\t\t\traise Exception(\"No valid activation function given.\")\n",
    "\t\n",
    "\tdef __call__(self, input):\n",
    "\t\tif np.size(input, axis=1) == self.weights.size:\n",
    "\t\t\treturn self.activation_func(self.bias + np.dot(self.weights, input.T))\n",
    "\t\telse:\n",
    "\t\t\traise Exception(\"Input is not in the right size.\")"
   ]
  },
  {
   "cell_type": "markdown",
   "id": "552ab82c-5424-4fcc-afdd-f08229a190bc",
   "metadata": {},
   "source": [
    "## Define the loss function"
   ]
  },
  {
   "cell_type": "code",
   "execution_count": 3,
   "id": "b51e1af6-d3b8-40f4-a0a9-bd2c7c39d190",
   "metadata": {
    "tags": []
   },
   "outputs": [],
   "source": [
    "def mean_squared_error_loss(real_output, predicted_output):\n",
    "\tif real_output.size != predicted_output.size:\n",
    "\t\traise Exception(\"Array sizes are not matching.\")\n",
    "\treturn 1 / real_output.size * np.sum((real_output - predicted_output)**2)"
   ]
  },
  {
   "cell_type": "markdown",
   "id": "bd757b17",
   "metadata": {},
   "source": [
    "## Define the gradient function, which is calculated by hand and hard-coded"
   ]
  },
  {
   "cell_type": "code",
   "execution_count": 4,
   "id": "5f8ecf7d-4016-4202-8e39-e98b7058215d",
   "metadata": {},
   "outputs": [],
   "source": [
    "def singleNeuronGradientMeanSquaredErrorLoss(numberOfInputs, input, real_output, predicted_output, neuron):\n",
    "\t\"\"\"\n",
    "\tHand calculated gradient of the mean squared error loss\n",
    "\t\"\"\"\n",
    "\tn = real_output.size\n",
    "\tinput = np.array(input)\n",
    "\tgrad = np.zeros(numberOfInputs + 1) # + 1 for the gradient\n",
    "\t# weights gradient\n",
    "\tfor j in range(numberOfInputs):\n",
    "\t\tsum = 0\n",
    "\t\tfor i in range(n):\n",
    "\t\t\tsum += (real_output[i] - predicted_output[i]) * neuron.gradActivation_func(np.dot(neuron.weights, input[i,:])) * input[i,j]\n",
    "\t\tgrad[j] = -2 / n * sum\n",
    "\t# bias gradient\n",
    "\tfor i in range(n):\n",
    "\t\tsum += (real_output[i] - predicted_output[i]) * neuron.gradActivation_func(np.dot(neuron.weights, input[i,:]))\n",
    "\t\tgrad[-1] = -2 / n * sum\n",
    "\treturn grad"
   ]
  },
  {
   "cell_type": "markdown",
   "id": "9593b613-7d35-4b7e-9b72-0aae4465b53e",
   "metadata": {},
   "source": [
    "## Neural Network"
   ]
  },
  {
   "cell_type": "markdown",
   "id": "326bf3b1",
   "metadata": {},
   "source": [
    "Now we have everything we need.\n",
    "\n",
    "We construct a neural network with one neuron and train and test it with the following simple example.\n",
    "\n",
    "Training data\n",
    "\n",
    "| $x_1$ | $x_2$ | $x_3$ | $y$ |\n",
    "| ----------- | ----------- | ----------- | ----------- |\n",
    "| 0 | 0 | 1 | 0 |\n",
    "| 0 | 1 | 1 | 0 |\n",
    "| 1 | 0 | 1 | 1 |\n",
    "| 1 | 1 | 1 | 1 |\n",
    "\n",
    "Testing data\n",
    "\n",
    "| $x_1$ | $x_2$ | $x_3$ | $y$ |\n",
    "| ----------- | ----------- | ----------- | ----------- |\n",
    "| 1 | 0 | 0 | 1 |\n",
    "| 0 | 1 | 0 | 0 |\n",
    "\n",
    "As you can see, the pattern is $y = x_1$."
   ]
  },
  {
   "cell_type": "code",
   "execution_count": 5,
   "id": "7f72d1a3-9442-4e7e-9d1b-00b7be26c623",
   "metadata": {},
   "outputs": [
    {
     "name": "stdout",
     "output_type": "stream",
     "text": [
      "Result:  [0.86698211 0.13432124]\n",
      "Weights:  [ 3.63046527 -0.10734909 -0.71732171]\n",
      "Bias:  -1.755930556145024\n",
      "Smallest loss index: 9999 , value: 0.03385611140584965\n"
     ]
    },
    {
     "data": {
      "image/png": "[encoded data removed]",
      "text/plain": [
       "<Figure size 432x288 with 1 Axes>"
      ]
     },
     "metadata": {
      "needs_background": "light"
     },
     "output_type": "display_data"
    }
   ],
   "source": [
    "numberOfTrainingIterations = 10000\n",
    "\n",
    "train_input = np.array([[0, 0, 1], \n",
    "\t\t\t\t\t\t[1, 1, 1], \n",
    "\t\t\t\t\t\t[1, 0, 1], \n",
    "\t\t\t\t\t\t[0, 1, 1]])\n",
    "train_output = np.array([0, 1, 1, 0])\n",
    "\n",
    "test_input = np.array([[1, 0, 0],\n",
    "\t\t\t\t\t   [0, 1, 0]])\n",
    "test_output = np.array([1, 0])\n",
    "\n",
    "learing_rate = .01\n",
    "\n",
    "neuron = Neuron(3, actFunc=\"sigmoid\")\n",
    "lossTrain = np.zeros(numberOfTrainingIterations)\n",
    "lossTest = np.zeros(numberOfTrainingIterations)\n",
    "\n",
    "for index in range(numberOfTrainingIterations):\n",
    "\tpred_output = neuron(train_input)\n",
    "\tlossTrain[index] = mean_squared_error_loss(train_output, pred_output)\n",
    "\tlossTest[index] = mean_squared_error_loss(test_output, neuron(test_input))\n",
    "\tgrad = singleNeuronGradientMeanSquaredErrorLoss(3, train_input, train_output, pred_output, neuron)\n",
    "\tneuron.weights -= learing_rate * grad[0:-1]\n",
    "\tneuron.bias -= learing_rate * grad[-1]\n",
    "\n",
    "print(\"Result: \", neuron(test_input))\n",
    "print(\"Weights: \", neuron.weights)\n",
    "print(\"Bias: \", neuron.bias)\n",
    "minIndex = np.argmin(lossTrain)\n",
    "print(\"Smallest loss index:\", minIndex, \", value:\", lossTrain[minIndex])\n",
    "\n",
    "\n",
    "fig = plt.figure()\n",
    "plt.plot(range(numberOfTrainingIterations), lossTrain, label = \"Train loss\")\n",
    "plt.plot(range(numberOfTrainingIterations), lossTest, label = \"Test loss\")\n",
    "plt.legend()\n",
    "plt.show()"
   ]
  }
 ],
 "metadata": {
  "kernelspec": {
   "display_name": "Python 3.10.1 64-bit",
   "language": "python",
   "name": "python3"
  },
  "language_info": {
   "codemirror_mode": {
    "name": "ipython",
    "version": 3
   },
   "file_extension": ".py",
   "mimetype": "text/x-python",
   "name": "python",
   "nbconvert_exporter": "python",
   "pygments_lexer": "ipython3",
   "version": "3.10.1"
  },
  "vscode": {
   "interpreter": {
    "hash": "26de051ba29f2982a8de78e945f0abaf191376122a1563185a90213a26c5da77"
   }
  }
 },
 "nbformat": 4,
 "nbformat_minor": 5
}
